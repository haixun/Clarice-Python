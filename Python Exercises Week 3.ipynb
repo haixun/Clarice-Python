{
 "cells": [
  {
   "cell_type": "markdown",
   "metadata": {
    "collapsed": true
   },
   "source": [
    "# Problem 1: Selection Sort\n",
    "\n",
    "Selection sort is to repetitively pick up the smallest element and put it into the right position:\n",
    "\n",
    "1. Find the smallest element, and put it to the first position.\n",
    "2. Find the next smallest element, and put it to the second position.\n",
    "3. Repeat until all elements are in the right positions.\n",
    "\n",
    "<img src=\"data/Selection.gif\">"
   ]
  },
  {
   "cell_type": "code",
   "execution_count": 124,
   "metadata": {
    "collapsed": false
   },
   "outputs": [],
   "source": [
    "def max_selection(array):\n",
    "    size = len(array)\n",
    "    for i in range(size - 1, 0, -1):\n",
    "        p = 0\n",
    "        for n in range(1, i + 1):\n",
    "            if array[n] > array[p]:\n",
    "                p = n\n",
    "\n",
    "        array[i], array[p] = array[p], array[i]\n",
    "        print(array)"
   ]
  },
  {
   "cell_type": "code",
   "execution_count": 125,
   "metadata": {
    "collapsed": false
   },
   "outputs": [
    {
     "name": "stdout",
     "output_type": "stream",
     "text": [
      "[8, 5, 7, 2, 1, 3, 4, 6, 9]\n",
      "[6, 5, 7, 2, 1, 3, 4, 8, 9]\n",
      "[6, 5, 4, 2, 1, 3, 7, 8, 9]\n",
      "[3, 5, 4, 2, 1, 6, 7, 8, 9]\n",
      "[3, 1, 4, 2, 5, 6, 7, 8, 9]\n",
      "[3, 1, 2, 4, 5, 6, 7, 8, 9]\n",
      "[2, 1, 3, 4, 5, 6, 7, 8, 9]\n",
      "[1, 2, 3, 4, 5, 6, 7, 8, 9]\n",
      "[1, 2, 3, 4, 5, 6, 7, 8, 9]\n"
     ]
    }
   ],
   "source": [
    "array = [8,5,7,2,1,3,4,9,6]\n",
    "max_selection(array)\n",
    "print(array)"
   ]
  },
  {
   "cell_type": "code",
   "execution_count": 128,
   "metadata": {
    "collapsed": false
   },
   "outputs": [],
   "source": [
    "def min_selection(array):\n",
    "    size = len(array)\n",
    "    for i in range(size):\n",
    "        m = i\n",
    "        for n in range(i + 1, size):\n",
    "            if array[n] < array[m]:\n",
    "                m = n\n",
    "\n",
    "        array[i], array[m] = array[m], array[i]\n",
    "        print(array)"
   ]
  },
  {
   "cell_type": "code",
   "execution_count": 129,
   "metadata": {
    "collapsed": false
   },
   "outputs": [
    {
     "name": "stdout",
     "output_type": "stream",
     "text": [
      "[1, 5, 7, 2, 8, 3, 4, 9, 6]\n",
      "[1, 2, 7, 5, 8, 3, 4, 9, 6]\n",
      "[1, 2, 3, 5, 8, 7, 4, 9, 6]\n",
      "[1, 2, 3, 4, 8, 7, 5, 9, 6]\n",
      "[1, 2, 3, 4, 5, 7, 8, 9, 6]\n",
      "[1, 2, 3, 4, 5, 6, 8, 9, 7]\n",
      "[1, 2, 3, 4, 5, 6, 7, 9, 8]\n",
      "[1, 2, 3, 4, 5, 6, 7, 8, 9]\n",
      "[1, 2, 3, 4, 5, 6, 7, 8, 9]\n",
      "[1, 2, 3, 4, 5, 6, 7, 8, 9]\n"
     ]
    }
   ],
   "source": [
    "array = [8,5,7,2,1,3,4,9,6]\n",
    "min_selection(array)\n",
    "print(array)"
   ]
  },
  {
   "cell_type": "markdown",
   "metadata": {},
   "source": [
    "# Problem 2: Insertion Sort\n",
    "\n",
    "Insertion sort maintains a sorted sub-array, and repetitively inserts new elements into it. The process is as following:\n",
    "\n",
    "1. Take the first element as a sorted sub-array.\n",
    "2. Insert the second element into the sorted sub-array (shift elements if needed).\n",
    "3. Insert the third element into the sorted sub-array.\n",
    "4. Repeat until all elements are inserted.\n",
    "\n",
    "Review the sort algorithm in Week 1 (which is known as \"bubble sort\"). \n",
    "\n",
    "Implement Insertion Sort\n",
    "\n",
    "<img src=\"data/Insert.gif\">\n",
    "\n"
   ]
  },
  {
   "cell_type": "code",
   "execution_count": 227,
   "metadata": {
    "collapsed": false
   },
   "outputs": [],
   "source": [
    "def insertion(array):\n",
    "    size = len(array)\n",
    "    # goes through each number of the array except the first one \n",
    "    # because the first one will be moved if it is not the smallest\n",
    "    for i in range(1, size):\n",
    "        # place holder for the number that is being inserted\n",
    "        s = array[i]\n",
    "        # resetting y\n",
    "        y = False\n",
    "        # the value of n is each number before every i\n",
    "        for n in range(i - 1, -1, -1):\n",
    "            # if the number before i is smaller, set the number right after to be i\n",
    "            if array[n] < s:\n",
    "                array[n + 1] = s\n",
    "                # then change y to True meaning to show that this already happened\n",
    "                y = True\n",
    "                # all done with the i so jump out of loop and start with next i\n",
    "                break\n",
    "            else:\n",
    "                # if the number before i is bigger, move the value of n one space to the right\n",
    "                array[n + 1] = array[n]\n",
    "        # check if the change was made and do it because if not, array[i] will be lost\n",
    "        if y == False:\n",
    "            array[0] = s\n",
    "        print(array)"
   ]
  },
  {
   "cell_type": "code",
   "execution_count": 228,
   "metadata": {
    "collapsed": false
   },
   "outputs": [
    {
     "name": "stdout",
     "output_type": "stream",
     "text": [
      "[5, 8, 6, 2, 1, 3, 4, 9, 7]\n",
      "[5, 6, 8, 2, 1, 3, 4, 9, 7]\n",
      "[2, 5, 6, 8, 1, 3, 4, 9, 7]\n",
      "[1, 2, 5, 6, 8, 3, 4, 9, 7]\n",
      "[1, 2, 3, 5, 6, 8, 4, 9, 7]\n",
      "[1, 2, 3, 4, 5, 6, 8, 9, 7]\n",
      "[1, 2, 3, 4, 5, 6, 8, 9, 7]\n",
      "[1, 2, 3, 4, 5, 6, 7, 8, 9]\n",
      "[1, 2, 3, 4, 5, 6, 7, 8, 9]\n"
     ]
    }
   ],
   "source": [
    "array = [8,5,6,2,1,3,4,9,7]\n",
    "insertion(array)\n",
    "print(array)"
   ]
  },
  {
   "cell_type": "code",
   "execution_count": 254,
   "metadata": {
    "collapsed": false
   },
   "outputs": [],
   "source": [
    "# starting from the back of the array\n",
    "def insertionb(array):\n",
    "    size = len(array)\n",
    "    # goes through each number of the array backwards except the last one \n",
    "    # because it will be moved if it is not the largest\n",
    "    for i in range(size - 2, -1, -1):\n",
    "        s = array[i]\n",
    "        y = False\n",
    "        # the value of n is each number after every i\n",
    "        for n in range(i + 1, size):\n",
    "            # if i is smaller than the number after it, it stays the same and moves on to the next i\n",
    "            if array[n] > s:\n",
    "                array[n - 1] = s\n",
    "                y = True\n",
    "                break\n",
    "            else:\n",
    "                # otherwise move every value of n after i one space to the left until i is in the correct spot\n",
    "                array[n - 1] = array[n]\n",
    "        if y == False:\n",
    "            # changes the last number of the array instead of the first because it starts from the back\n",
    "            array[-1] = s\n",
    "        print(array)"
   ]
  },
  {
   "cell_type": "code",
   "execution_count": 255,
   "metadata": {
    "collapsed": false
   },
   "outputs": [
    {
     "name": "stdout",
     "output_type": "stream",
     "text": [
      "[8, 5, 6, 2, 1, 3, 4, 7, 9]\n",
      "[8, 5, 6, 2, 1, 3, 4, 7, 9]\n",
      "[8, 5, 6, 2, 1, 3, 4, 7, 9]\n",
      "[8, 5, 6, 2, 1, 3, 4, 7, 9]\n",
      "[8, 5, 6, 1, 2, 3, 4, 7, 9]\n",
      "[8, 5, 1, 2, 3, 4, 6, 7, 9]\n",
      "[8, 1, 2, 3, 4, 5, 6, 7, 9]\n",
      "[1, 2, 3, 4, 5, 6, 7, 8, 9]\n",
      "[1, 2, 3, 4, 5, 6, 7, 8, 9]\n"
     ]
    }
   ],
   "source": [
    "array = [8,5,6,2,1,3,4,9,7]\n",
    "insertionb(array)\n",
    "print(array)"
   ]
  },
  {
   "cell_type": "markdown",
   "metadata": {
    "collapsed": true
   },
   "source": [
    "# Problem 3: Bubble Sort\n",
    "\n",
    "Bubble sort repetitively compares adjacent pairs of elements and swaps if necessary.\n",
    "\n",
    "1. Scan the array, swapping adjacent pair of elements if they are not in relative order. This bubbles up the largest element to the end.\n",
    "2. Scan the array again, bubbling up the second largest element.\n",
    "3. Repeat until all elements are in order.\n",
    "\n",
    "<img src=\"data/Bubble.gif\">"
   ]
  },
  {
   "cell_type": "markdown",
   "metadata": {},
   "source": []
  },
  {
   "cell_type": "code",
   "execution_count": 12,
   "metadata": {
    "collapsed": true
   },
   "outputs": [],
   "source": [
    "def bubble(array):\n",
    "    size = len(array)\n",
    "    for i in range(size):\n",
    "        # x starts from the back of the array and this loop runs until it has made a switch or\n",
    "        # when it ends at the number after i\n",
    "        for x in range(size - 1, i, -1):\n",
    "            # if the number before x is larger, swap the two\n",
    "            if array[x] < array[x - 1]:\n",
    "                array[x], array[x - 1] = array[x - 1], array[x]\n",
    "                print(array)"
   ]
  },
  {
   "cell_type": "code",
   "execution_count": 13,
   "metadata": {
    "collapsed": false
   },
   "outputs": [
    {
     "name": "stdout",
     "output_type": "stream",
     "text": [
      "[2, 5, 6, 8, 1, 3, 4, 7, 9]\n",
      "[2, 5, 6, 1, 8, 3, 4, 7, 9]\n",
      "[2, 5, 1, 6, 8, 3, 4, 7, 9]\n",
      "[2, 1, 5, 6, 8, 3, 4, 7, 9]\n",
      "[1, 2, 5, 6, 8, 3, 4, 7, 9]\n",
      "[1, 2, 5, 6, 3, 8, 4, 7, 9]\n",
      "[1, 2, 5, 3, 6, 8, 4, 7, 9]\n",
      "[1, 2, 3, 5, 6, 8, 4, 7, 9]\n",
      "[1, 2, 3, 5, 6, 4, 8, 7, 9]\n",
      "[1, 2, 3, 5, 4, 6, 8, 7, 9]\n",
      "[1, 2, 3, 4, 5, 6, 8, 7, 9]\n",
      "[1, 2, 3, 4, 5, 6, 7, 8, 9]\n",
      "[1, 2, 3, 4, 5, 6, 7, 8, 9]\n"
     ]
    }
   ],
   "source": [
    "array = [2,5,6,8,1,3,4,9,7]\n",
    "bubble(array)\n",
    "print(array)"
   ]
  },
  {
   "cell_type": "code",
   "execution_count": null,
   "metadata": {
    "collapsed": true
   },
   "outputs": [],
   "source": []
  }
 ],
 "metadata": {
  "kernelspec": {
   "display_name": "Python 3",
   "language": "python",
   "name": "python3"
  },
  "language_info": {
   "codemirror_mode": {
    "name": "ipython",
    "version": 3
   },
   "file_extension": ".py",
   "mimetype": "text/x-python",
   "name": "python",
   "nbconvert_exporter": "python",
   "pygments_lexer": "ipython3",
   "version": "3.6.0"
  }
 },
 "nbformat": 4,
 "nbformat_minor": 2
}
