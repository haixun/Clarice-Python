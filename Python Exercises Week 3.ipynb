{
 "cells": [
  {
   "cell_type": "markdown",
   "metadata": {
    "collapsed": true
   },
   "source": [
    "# Problem 1: Selection Sort\n",
    "\n",
    "Selection sort is to repetitively pick up the smallest element and put it into the right position:\n",
    "\n",
    "1. Find the smallest element, and put it to the first position.\n",
    "2. Find the next smallest element, and put it to the second position.\n",
    "3. Repeat until all elements are in the right positions.\n",
    "\n",
    "<img src=\"data/Selection.gif\">"
   ]
  },
  {
   "cell_type": "code",
   "execution_count": 7,
   "metadata": {
    "collapsed": false
   },
   "outputs": [
    {
     "name": "stdout",
     "output_type": "stream",
     "text": [
      "[1, 2, 3, 4, 5, 6, 7, 8, 9]\n"
     ]
    }
   ],
   "source": [
    "def sortlist(array):\n",
    "    size = len(array)\n",
    "    for i in range(size):\n",
    "        # checks i with the number after it, n\n",
    "        for n in range(i + 1, size):\n",
    "            if array[n] < array[i]:\n",
    "                array[n], array[i] = array[i], array[n]\n",
    "\n",
    "array = [9,5,7,2,1,3,4,8,6]\n",
    "sortlist(array)\n",
    "print(array)"
   ]
  },
  {
   "cell_type": "markdown",
   "metadata": {},
   "source": [
    "# Problem 2: Insertion Sort\n",
    "\n",
    "Insertion sort maintains a sorted sub-array, and repetitively inserts new elements into it. The process is as following:\n",
    "\n",
    "1. Take the first element as a sorted sub-array.\n",
    "2. Insert the second element into the sorted sub-array (shift elements if needed).\n",
    "3. Insert the third element into the sorted sub-array.\n",
    "4. Repeat until all elements are inserted.\n",
    "\n",
    "Review the sort algorithm in Week 1 (which is known as \"bubble sort\"). \n",
    "\n",
    "Implement Insertion Sort\n",
    "\n",
    "<img src=\"data/Insert.gif\">\n",
    "\n"
   ]
  },
  {
   "cell_type": "markdown",
   "metadata": {
    "collapsed": true
   },
   "source": [
    "# Problem 3: Bubble Sort\n",
    "\n",
    "Bubble sort repetitively compares adjacent pairs of elements and swaps if necessary.\n",
    "\n",
    "1. Scan the array, swapping adjacent pair of elements if they are not in relative order. This bubbles up the largest element to the end.\n",
    "2. Scan the array again, bubbling up the second largest element.\n",
    "3. Repeat until all elements are in order.\n",
    "\n",
    "<img src=\"data/Bubble.gif\">"
   ]
  },
  {
   "cell_type": "markdown",
   "metadata": {},
   "source": []
  }
 ],
 "metadata": {
  "kernelspec": {
   "display_name": "Python 2",
   "language": "python",
   "name": "python2"
  },
  "language_info": {
   "codemirror_mode": {
    "name": "ipython",
    "version": 2
   },
   "file_extension": ".py",
   "mimetype": "text/x-python",
   "name": "python",
   "nbconvert_exporter": "python",
   "pygments_lexer": "ipython2",
   "version": "2.7.13"
  }
 },
 "nbformat": 4,
 "nbformat_minor": 2
}
