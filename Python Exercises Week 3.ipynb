{
 "cells": [
  {
   "cell_type": "markdown",
   "metadata": {},
   "source": [
    "# Problem 1: (Insertion Sort)\n",
    "\n",
    "Review the sort algorithm in Week 1 (which is known as \"bubble sort\"). \n",
    "\n",
    "Implement Insertion Sort\n",
    "\n",
    "<img src=\"Insert.gif\">\n",
    "\n"
   ]
  },
  {
   "cell_type": "markdown",
   "metadata": {
    "collapsed": true
   },
   "source": [
    "# Problem 2: \n",
    "    \n",
    "Take input such as \"3 + 4 + 5\" and \"18 - 3 + 2 * 3\" and output 12 and 21.\n",
    "\n",
    "There are multiple operations in the input. \n",
    "\n",
    "We do not consider operator precedence, that is, we interpret \"3 + 4 \\* 5\" as \"(3 + 4) \\* 5\" instead of \"3 + (4 \\* 5)\"\n",
    "\n"
   ]
  },
  {
   "cell_type": "markdown",
   "metadata": {
    "collapsed": true
   },
   "source": [
    "# Problem 3:\n",
    "    \n",
    "Define a class which has two methods:\n",
    "    \n",
    "getString: to get a string from console input\n",
    "\n",
    "printString: to print the string in upper case.\n"
   ]
  },
  {
   "cell_type": "markdown",
   "metadata": {},
   "source": [
    "# Problem 4:\n",
    "\n",
    "Write a program that calculates and prints the value according to the given formula:\n",
    "    \n",
    "Q = Square root of [(2 \\* C \\* D)/H]\n",
    "\n",
    "Following are the fixed values of C and H:\n",
    "\n",
    "C is 50. H is 30.\n",
    "\n",
    "D is the variable whose values should be input to your program in a comma-separated sequence.\n",
    "\n",
    "Example\n",
    "\n",
    "Let us assume the following comma separated input sequence is given to the program:\n",
    "\n",
    "    100,150,180\n",
    "\n",
    "The output of the program should be:\n",
    "\n",
    "    18,22,24\n"
   ]
  },
  {
   "cell_type": "markdown",
   "metadata": {},
   "source": [
    "# Problem 5:\n",
    "\n",
    "Write a program which takes 2 digits, X,Y as input and generates a 2-dimensional array. \n",
    "\n",
    "The element value in the i-th row and j-th column of the array should be i*j.\n",
    "\n",
    "Example: Suppose the following inputs are given to the program:\n",
    "\n",
    "    3,5\n",
    "\n",
    "Then, the output of the program should be:\n",
    "\n",
    "    [[0, 0, 0, 0, 0], [0, 1, 2, 3, 4], [0, 2, 4, 6, 8]]\n"
   ]
  }
 ],
 "metadata": {
  "kernelspec": {
   "display_name": "Python 2",
   "language": "python",
   "name": "python2"
  },
  "language_info": {
   "codemirror_mode": {
    "name": "ipython",
    "version": 2
   },
   "file_extension": ".py",
   "mimetype": "text/x-python",
   "name": "python",
   "nbconvert_exporter": "python",
   "pygments_lexer": "ipython2",
   "version": "2.7.13"
  }
 },
 "nbformat": 4,
 "nbformat_minor": 2
}
