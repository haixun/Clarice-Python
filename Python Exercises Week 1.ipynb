{
 "cells": [
  {
   "cell_type": "markdown",
   "metadata": {},
   "source": [
    "# Problem 6\n",
    "\n",
    "Implement a function that prints out a pyramid of height k. For example, following is the output for height 6\n",
    "\n",
    "         *\n",
    "        ***\n",
    "       *****\n",
    "      *******\n",
    "     *********\n",
    "    ***********"
   ]
  },
  {
   "cell_type": "code",
   "execution_count": 296,
   "metadata": {
    "collapsed": false
   },
   "outputs": [],
   "source": [
    "def pyramid(height):\n",
    "    for i in range(height + 1):\n",
    "        # create variables for spaces and stars that depend on the height of the pyramid\n",
    "        spaces = height - i\n",
    "        stars = (2 * i) - 1\n",
    "        pyramid = ' ' * spaces + '*' * stars\n",
    "        print (pyramid)"
   ]
  },
  {
   "cell_type": "code",
   "execution_count": 297,
   "metadata": {
    "collapsed": false
   },
   "outputs": [
    {
     "name": "stdout",
     "output_type": "stream",
     "text": [
      "      \n",
      "     *\n",
      "    ***\n",
      "   *****\n",
      "  *******\n",
      " *********\n",
      "***********\n"
     ]
    }
   ],
   "source": [
    "pyramid(6)"
   ]
  },
  {
   "cell_type": "markdown",
   "metadata": {},
   "source": [
    "# Problem 5\n",
    "\n",
    "The following array records the positions of 10 queens in a 10x10 board:\n",
    "\n",
    "    board = [(0,0), (1, 2), (2, 5), (3, 7), (4, 9), (5, 4), (6, 8), (7, 1), (8, 3), (9, 6)]\n",
    "\n",
    "Check if the queens can coexist."
   ]
  },
  {
   "cell_type": "code",
   "execution_count": 314,
   "metadata": {
    "collapsed": true
   },
   "outputs": [],
   "source": [
    "# without abs(i - x) = abs(j - y) then things will be negative\n",
    "def coexist(board):\n",
    "    size = len(board)\n",
    "    for a in range(size - 1):\n",
    "        (i,j) = board[a]\n",
    "        for b in range(i + 1, size):\n",
    "            (x, y) = board[b]\n",
    "            # they do not need three separate statements just if ......\n",
    "            if i == x or j == y or abs(i - x) == abs(j - y):\n",
    "                return False\n",
    "    return True"
   ]
  },
  {
   "cell_type": "code",
   "execution_count": 316,
   "metadata": {
    "collapsed": false
   },
   "outputs": [
    {
     "data": {
      "text/plain": [
       "True"
      ]
     },
     "execution_count": 316,
     "metadata": {},
     "output_type": "execute_result"
    }
   ],
   "source": [
    "board = [(0,0), (1, 2), (2, 5), (3, 7), (4, 9), (5, 4), (6, 8), (7, 1), (8, 3), (9, 6)]\n",
    "coexist(board)"
   ]
  },
  {
   "cell_type": "markdown",
   "metadata": {},
   "source": [
    "# Problem 4\n",
    "\n",
    "The following array records the positions of 10 queens in a 10x10 board:\n",
    "\n",
    "    board = [(0,0), (1, 2), (2, 5), (3, 7), (4, 9), (5, 4), (6, 8), (7, 1), (8, 3), (9, 6)]\n",
    "\n",
    "Print the board as in the following:\n",
    "\n",
    "    Q---------\n",
    "    --Q-------\n",
    "    -----Q----\n",
    "    -------Q--\n",
    "    ---------Q\n",
    "    ----Q-----\n",
    "    --------Q-\n",
    "    -Q--------\n",
    "    ---Q------\n",
    "    ------Q---"
   ]
  },
  {
   "cell_type": "code",
   "execution_count": 237,
   "metadata": {
    "collapsed": false
   },
   "outputs": [],
   "source": [
    "def printboard(board):\n",
    "    # if something is used often, give it a variable and don't type len(board) all the time\n",
    "    size = len(board)\n",
    "    # creating an emptyboard to modify it (replace the - with Q)\n",
    "    emptyboard = [''] * size\n",
    "    for i in range(size):\n",
    "        emptyboard[i] = ['-'] * size\n",
    "    # iterate with the rows and columns to index emptyboard twice\n",
    "    for (r, c) in board:\n",
    "        emptyboard[r][c] = 'Q'\n",
    "\n",
    "    return(emptyboard)"
   ]
  },
  {
   "cell_type": "code",
   "execution_count": 238,
   "metadata": {
    "collapsed": false
   },
   "outputs": [
    {
     "name": "stdout",
     "output_type": "stream",
     "text": [
      "Q---------\n",
      "--Q-------\n",
      "-----Q----\n",
      "-------Q--\n",
      "---------Q\n",
      "----Q-----\n",
      "--------Q-\n",
      "-Q--------\n",
      "---Q------\n",
      "------Q---\n"
     ]
    }
   ],
   "source": [
    "board = [(0,0), (1, 2), (2, 5), (3, 7), (4, 9), (5, 4), (6, 8), (7, 1), (8, 3), (9, 6)]\n",
    "x = printboard(board)\n",
    "for r in x:\n",
    "    print(''.join(r))"
   ]
  },
  {
   "cell_type": "markdown",
   "metadata": {},
   "source": [
    "# Problem 3\n",
    "\n",
    "Implement a sort function that takes an array of integers and sort them in ascending order"
   ]
  },
  {
   "cell_type": "code",
   "execution_count": 37,
   "metadata": {
    "collapsed": true
   },
   "outputs": [],
   "source": [
    "def sortlist(array):\n",
    "    size = len(array)\n",
    "    for i in range(size):\n",
    "        # checks i with the number after it, n\n",
    "        for n in range(i + 1, size):\n",
    "            if array[n] < array[i]:\n",
    "                array[n], array[i] = array[i], array[n]"
   ]
  },
  {
   "cell_type": "code",
   "execution_count": 38,
   "metadata": {
    "collapsed": false
   },
   "outputs": [
    {
     "name": "stdout",
     "output_type": "stream",
     "text": [
      "[1, 2, 3, 4, 5, 6, 7, 8, 9]\n"
     ]
    }
   ],
   "source": [
    "array = [9,5,7,2,1,3,4,8,6]\n",
    "sortlist(array)\n",
    "print(array)"
   ]
  },
  {
   "cell_type": "markdown",
   "metadata": {},
   "source": [
    "# Problem 2\n",
    "\n",
    "Write a recursive function to compute the factorial of a given numbers. For example, given 6, output 720.\n",
    "\n"
   ]
  },
  {
   "cell_type": "code",
   "execution_count": 23,
   "metadata": {
    "collapsed": true
   },
   "outputs": [],
   "source": [
    "# recursive function uses itself in the function\n",
    "def factorial(number):\n",
    "    if number == 1:\n",
    "        return(1)\n",
    "    else:\n",
    "        return(number * factorial(number - 1))"
   ]
  },
  {
   "cell_type": "code",
   "execution_count": 24,
   "metadata": {
    "collapsed": false
   },
   "outputs": [
    {
     "data": {
      "text/plain": [
       "720"
      ]
     },
     "execution_count": 24,
     "metadata": {},
     "output_type": "execute_result"
    }
   ],
   "source": [
    "factorial(6)"
   ]
  },
  {
   "cell_type": "markdown",
   "metadata": {
    "collapsed": true
   },
   "source": [
    "# Problem 1\n",
    "\n",
    "Write a program which will find all such numbers which are divisible by 7 but are not a multiple of 5, between 2000 and 3200 (both included).\n",
    "\n",
    "The numbers obtained should be printed in a comma-separated sequence on a single line.\n",
    "\n",
    "Hints:\n",
    "\n",
    "Consider use range(#begin, #end) method"
   ]
  },
  {
   "cell_type": "code",
   "execution_count": 15,
   "metadata": {
    "collapsed": true
   },
   "outputs": [],
   "source": [
    "def sevenfive(start, end):\n",
    "    numbers = []\n",
    "    for i in range(start, end + 1):\n",
    "        # check if divisible by 7 first because less numbers will be successful\n",
    "        if i % 7 == 0 and i % 5 != 0:\n",
    "            # cannot append integers to strings so change i to a string\n",
    "            numbers.append(str(i))\n",
    "    return numbers"
   ]
  },
  {
   "cell_type": "code",
   "execution_count": 317,
   "metadata": {
    "collapsed": false
   },
   "outputs": [
    {
     "data": {
      "text/plain": [
       "'2002, 2009, 2016, 2023, 2037, 2044, 2051, 2058, 2072, 2079, 2086, 2093, 2107, 2114, 2121, 2128, 2142, 2149, 2156, 2163, 2177, 2184, 2191, 2198, 2212, 2219, 2226, 2233, 2247, 2254, 2261, 2268, 2282, 2289, 2296, 2303, 2317, 2324, 2331, 2338, 2352, 2359, 2366, 2373, 2387, 2394, 2401, 2408, 2422, 2429, 2436, 2443, 2457, 2464, 2471, 2478, 2492, 2499, 2506, 2513, 2527, 2534, 2541, 2548, 2562, 2569, 2576, 2583, 2597, 2604, 2611, 2618, 2632, 2639, 2646, 2653, 2667, 2674, 2681, 2688, 2702, 2709, 2716, 2723, 2737, 2744, 2751, 2758, 2772, 2779, 2786, 2793, 2807, 2814, 2821, 2828, 2842, 2849, 2856, 2863, 2877, 2884, 2891, 2898, 2912, 2919, 2926, 2933, 2947, 2954, 2961, 2968, 2982, 2989, 2996, 3003, 3017, 3024, 3031, 3038, 3052, 3059, 3066, 3073, 3087, 3094, 3101, 3108, 3122, 3129, 3136, 3143, 3157, 3164, 3171, 3178, 3192, 3199'"
      ]
     },
     "execution_count": 317,
     "metadata": {},
     "output_type": "execute_result"
    }
   ],
   "source": [
    "# join with commas otherwise it will print as a column\n",
    "', '.join(sevenfive(2000, 3200))"
   ]
  },
  {
   "cell_type": "code",
   "execution_count": null,
   "metadata": {
    "collapsed": true
   },
   "outputs": [],
   "source": []
  }
 ],
 "metadata": {
  "kernelspec": {
   "display_name": "Python 3",
   "language": "python",
   "name": "python3"
  },
  "language_info": {
   "codemirror_mode": {
    "name": "ipython",
    "version": 3
   },
   "file_extension": ".py",
   "mimetype": "text/x-python",
   "name": "python",
   "nbconvert_exporter": "python",
   "pygments_lexer": "ipython3",
   "version": "3.6.0"
  }
 },
 "nbformat": 4,
 "nbformat_minor": 2
}
