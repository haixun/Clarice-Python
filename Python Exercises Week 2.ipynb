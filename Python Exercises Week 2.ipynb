{
 "cells": [
  {
   "cell_type": "markdown",
   "metadata": {
    "collapsed": true
   },
   "source": [
    "# Problem 1\n",
    "\n",
    "Write a program which accepts a sequence of comma-separated numbers from console and generate a list and a tuple which contains every number.\n",
    "Suppose the following input is supplied to the program:\n",
    "    \n",
    "     34,67,55,33,12,98\n",
    "\n",
    "Then, the output should be:\n",
    "\n",
    "    ['34', '67', '55', '33', '12', '98']\n",
    "    ('34', '67', '55', '33', '12', '98')\n",
    "\n",
    "Hints:\n",
    "In case of input data being supplied to the question, it should be assumed to be a console input.\n",
    "tuple() method can convert list to tuple\n"
   ]
  },
  {
   "cell_type": "markdown",
   "metadata": {
    "collapsed": true
   },
   "source": [
    "# Problem 2\n",
    "\n",
    "Given integral number n, write a program to generate a dictionary that contains (i, i^2) and a set that contains i^2 such that is an integral number between 1 and n (both included), output the dictionary and the set.\n",
    "\n",
    "Suppose the following input is supplied to the program:\n",
    "\n",
    "    8\n",
    "\n",
    "Then, the output should be:\n",
    "    \n",
    "    {1: 1, 2: 4, 3: 9, 4: 16, 5: 25, 6: 36, 7: 49, 8: 64}\n",
    "    {1, 4, 9, 16, 25, 36, 49, 64}"
   ]
  },
  {
   "cell_type": "markdown",
   "metadata": {
    "collapsed": true
   },
   "source": [
    "# Problem 3\n",
    "\n",
    "Take input such as \"3 + 4\" and \"18 - 3\" and output 7 and 15.\n",
    "\n",
    "Here, we assume there is only one operation in the input, that is, we do not consider \"3+4/5\". The allowed operators are +, -, *, /, ^, %."
   ]
  },
  {
   "cell_type": "code",
   "execution_count": null,
   "metadata": {
    "collapsed": true
   },
   "outputs": [],
   "source": []
  }
 ],
 "metadata": {
  "kernelspec": {
   "display_name": "Python 2",
   "language": "python",
   "name": "python2"
  },
  "language_info": {
   "codemirror_mode": {
    "name": "ipython",
    "version": 2
   },
   "file_extension": ".py",
   "mimetype": "text/x-python",
   "name": "python",
   "nbconvert_exporter": "python",
   "pygments_lexer": "ipython2",
   "version": "2.7.13"
  }
 },
 "nbformat": 4,
 "nbformat_minor": 2
}
